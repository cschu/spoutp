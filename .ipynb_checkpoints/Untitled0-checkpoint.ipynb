{
 "metadata": {
  "name": "",
  "signature": "sha256:8685aa9b4c9b5a660c828184f978e4bcba048f7222dc94a3020aa86c0b5a48ca"
 },
 "nbformat": 3,
 "nbformat_minor": 0,
 "worksheets": []
}