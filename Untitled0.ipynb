{
 "metadata": {
  "name": "",
  "signature": "sha256:add4a4cd7406b3adf71719be9241561146424ec87ce09e2b51efd9ece9132c7d"
 },
 "nbformat": 3,
 "nbformat_minor": 0,
 "worksheets": [
  {
   "cells": [
    {
     "cell_type": "code",
     "collapsed": false,
     "input": [],
     "language": "python",
     "metadata": {},
     "outputs": []
    }
   ],
   "metadata": {}
  }
 ]
}